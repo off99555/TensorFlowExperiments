{
 "cells": [
  {
   "cell_type": "markdown",
   "metadata": {},
   "source": [
    "# How persistent is a tensor value?\n",
    "This experiment was designed for tensorflow 1."
   ]
  },
  {
   "cell_type": "code",
   "execution_count": 1,
   "metadata": {
    "ExecuteTime": {
     "end_time": "2017-01-15T14:42:37.125939",
     "start_time": "2017-01-15T14:42:35.388539"
    }
   },
   "outputs": [
    {
     "data": {
      "text/plain": [
       "'2.0.0'"
      ]
     },
     "execution_count": 1,
     "metadata": {},
     "output_type": "execute_result"
    }
   ],
   "source": [
    "import tensorflow as tf\n",
    "tf.__version__"
   ]
  },
  {
   "cell_type": "code",
   "execution_count": 2,
   "metadata": {
    "ExecuteTime": {
     "end_time": "2017-01-15T14:42:37.243157",
     "start_time": "2017-01-15T14:42:37.159752"
    },
    "collapsed": false,
    "jupyter": {
     "outputs_hidden": false
    }
   },
   "outputs": [
    {
     "name": "stdout",
     "output_type": "stream",
     "text": [
      "[array([-0.14042915], dtype=float32), array([-0.14042915], dtype=float32)]\n",
      "[array([0.56125957], dtype=float32), array([0.56125957], dtype=float32)]\n",
      "[array([42.], dtype=float32), array([42.], dtype=float32)]\n"
     ]
    }
   ],
   "source": [
    "with tf.compat.v1.Session() as sess:\n",
    "    ran = tf.random.normal([1])\n",
    "    print(sess.run([ran, ran])) # notice that they have the same value\n",
    "    print(sess.run([ran, ran]))\n",
    "    print(sess.run([ran, ran], feed_dict={ran: [42]})) # notice that no random is done here"
   ]
  },
  {
   "cell_type": "markdown",
   "metadata": {},
   "source": [
    "# Conclusion\n",
    "Tensors inside TensorFlow are persistent for each session run.\n",
    "\n",
    "For example, a random variable will be evaluated (randomized) only once and then persists until the `sess.run()` finishes.\n",
    "\n",
    "And if a Tensor already has defined value, it won't be redefined (happens when you feed it a value through `feed_dict` argument)."
   ]
  }
 ],
 "metadata": {
  "hide_input": false,
  "kernelspec": {
   "display_name": "Python 3",
   "language": "python",
   "name": "python3"
  },
  "language_info": {
   "codemirror_mode": {
    "name": "ipython",
    "version": 3
   },
   "file_extension": ".py",
   "mimetype": "text/x-python",
   "name": "python",
   "nbconvert_exporter": "python",
   "pygments_lexer": "ipython3",
   "version": "3.7.3"
  }
 },
 "nbformat": 4,
 "nbformat_minor": 4
}
