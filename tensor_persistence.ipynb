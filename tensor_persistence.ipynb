{
 "cells": [
  {
   "cell_type": "markdown",
   "metadata": {},
   "source": [
    "# How persistent is a tensor value?"
   ]
  },
  {
   "cell_type": "code",
   "execution_count": 1,
   "metadata": {
    "ExecuteTime": {
     "end_time": "2017-01-15T14:42:37.125939",
     "start_time": "2017-01-15T14:42:35.388539"
    },
    "collapsed": true
   },
   "outputs": [],
   "source": [
    "import tensorflow as tf"
   ]
  },
  {
   "cell_type": "code",
   "execution_count": 2,
   "metadata": {
    "ExecuteTime": {
     "end_time": "2017-01-15T14:42:37.157265",
     "start_time": "2017-01-15T14:42:37.127679"
    },
    "collapsed": true
   },
   "outputs": [],
   "source": [
    "ran = tf.random_normal([2])"
   ]
  },
  {
   "cell_type": "code",
   "execution_count": 3,
   "metadata": {
    "ExecuteTime": {
     "end_time": "2017-01-15T14:42:37.243157",
     "start_time": "2017-01-15T14:42:37.159752"
    },
    "collapsed": false
   },
   "outputs": [
    {
     "name": "stdout",
     "output_type": "stream",
     "text": [
      "[array([ 0.1378887 ,  0.19537598], dtype=float32), array([ 0.1378887 ,  0.19537598], dtype=float32)]\n",
      "[array([ 0.39511964,  2.04708219], dtype=float32), array([ 0.39511964,  2.04708219], dtype=float32)]\n",
      "[array([ 42.,   0.], dtype=float32), array([ 42.,   0.], dtype=float32)]\n"
     ]
    }
   ],
   "source": [
    "with tf.Session() as sess:\n",
    "    print(sess.run([ran, ran])) # notice that they have the same value\n",
    "    print(sess.run([ran, ran]))\n",
    "    print(sess.run([ran, ran], feed_dict={ran: [42, 0]})) # notice that no random is done here"
   ]
  },
  {
   "cell_type": "markdown",
   "metadata": {},
   "source": [
    "# Conclusion\n",
    "Tensors inside TensorFlow are persistent for each session run.\n",
    "\n",
    "If a Tensor already has defined value, it won't be redefined (happens when you feed it a value through `feed_dict` argument)."
   ]
  }
 ],
 "metadata": {
  "hide_input": false,
  "kernelspec": {
   "display_name": "Python 3",
   "language": "python",
   "name": "python3"
  },
  "language_info": {
   "codemirror_mode": {
    "name": "ipython",
    "version": 3
   },
   "file_extension": ".py",
   "mimetype": "text/x-python",
   "name": "python",
   "nbconvert_exporter": "python",
   "pygments_lexer": "ipython3",
   "version": "3.4.5"
  }
 },
 "nbformat": 4,
 "nbformat_minor": 0
}
