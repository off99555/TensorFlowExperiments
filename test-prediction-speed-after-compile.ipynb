{
 "cells": [
  {
   "cell_type": "markdown",
   "metadata": {},
   "source": [
    "## Why does the model predict significantly slower after `compile`?\n",
    "I have noticed that after the `.compile()` call, the model will predict a lot slower, even after training.\n",
    "\n",
    "This mean that it can affect model speed in real-time inference like object detection in webcam.\n",
    "\n",
    "This experiment try to reproduce the issue as clear as possible.\n",
    "\n",
    "See related question here: https://stackoverflow.com/q/58378374/2593810"
   ]
  },
  {
   "cell_type": "code",
   "execution_count": 1,
   "metadata": {},
   "outputs": [
    {
     "data": {
      "text/plain": [
       "('2.0.0', '2.2.4-tf', '1.16.5')"
      ]
     },
     "execution_count": 1,
     "metadata": {},
     "output_type": "execute_result"
    }
   ],
   "source": [
    "import tensorflow as tf\n",
    "kr = tf.keras\n",
    "import numpy as np\n",
    "np.set_printoptions(suppress=True)\n",
    "tf.__version__, kr.__version__, np.__version__"
   ]
  },
  {
   "cell_type": "code",
   "execution_count": 2,
   "metadata": {},
   "outputs": [
    {
     "name": "stdout",
     "output_type": "stream",
     "text": [
      "Model: \"sequential\"\n",
      "_________________________________________________________________\n",
      "Layer (type)                 Output Shape              Param #   \n",
      "=================================================================\n",
      "dense (Dense)                (None, 2000)              12000     \n",
      "_________________________________________________________________\n",
      "dense_1 (Dense)              (None, 2000)              4002000   \n",
      "_________________________________________________________________\n",
      "dense_2 (Dense)              (None, 5)                 10005     \n",
      "=================================================================\n",
      "Total params: 4,024,005\n",
      "Trainable params: 4,024,005\n",
      "Non-trainable params: 0\n",
      "_________________________________________________________________\n"
     ]
    }
   ],
   "source": [
    "model = kr.Sequential([\n",
    "    kr.layers.Dense(2000, activation='relu', input_shape=(5,)),\n",
    "    kr.layers.Dense(2000, activation='relu'),\n",
    "    kr.layers.Dense(5, activation='softmax')\n",
    "])\n",
    "model.summary()"
   ]
  },
  {
   "cell_type": "markdown",
   "metadata": {},
   "source": [
    "# Test prediction speed"
   ]
  },
  {
   "cell_type": "code",
   "execution_count": 3,
   "metadata": {},
   "outputs": [],
   "source": [
    "x = np.random.random((1, 5))"
   ]
  },
  {
   "cell_type": "code",
   "execution_count": 4,
   "metadata": {},
   "outputs": [
    {
     "data": {
      "text/plain": [
       "array([[0.19717476, 0.19599418, 0.2063633 , 0.20119473, 0.19927306]],\n",
       "      dtype=float32)"
      ]
     },
     "execution_count": 4,
     "metadata": {},
     "output_type": "execute_result"
    }
   ],
   "source": [
    "model.predict(x)"
   ]
  },
  {
   "cell_type": "code",
   "execution_count": 5,
   "metadata": {},
   "outputs": [
    {
     "name": "stdout",
     "output_type": "stream",
     "text": [
      "2.93 ms ± 278 µs per loop (mean ± std. dev. of 7 runs, 20 loops each)\n"
     ]
    }
   ],
   "source": [
    "%%timeit -n 20\n",
    "model.predict(x)"
   ]
  },
  {
   "cell_type": "markdown",
   "metadata": {},
   "source": [
    "### Compile and test speed"
   ]
  },
  {
   "cell_type": "code",
   "execution_count": 6,
   "metadata": {},
   "outputs": [],
   "source": [
    "model.compile(kr.optimizers.SGD(momentum=0.9), 'sparse_categorical_crossentropy', ['acc'])"
   ]
  },
  {
   "cell_type": "code",
   "execution_count": 7,
   "metadata": {},
   "outputs": [
    {
     "data": {
      "text/plain": [
       "array([[0.19717476, 0.19599418, 0.2063633 , 0.20119473, 0.19927306]],\n",
       "      dtype=float32)"
      ]
     },
     "execution_count": 7,
     "metadata": {},
     "output_type": "execute_result"
    }
   ],
   "source": [
    "model.predict(x)"
   ]
  },
  {
   "cell_type": "code",
   "execution_count": 8,
   "metadata": {},
   "outputs": [
    {
     "name": "stdout",
     "output_type": "stream",
     "text": [
      "27 ms ± 770 µs per loop (mean ± std. dev. of 7 runs, 20 loops each)\n"
     ]
    }
   ],
   "source": [
    "%%timeit -n 20\n",
    "model.predict(x)"
   ]
  },
  {
   "cell_type": "markdown",
   "metadata": {},
   "source": [
    "_Notice that speed after compile is significantly lower than before compile._"
   ]
  },
  {
   "cell_type": "markdown",
   "metadata": {},
   "source": [
    "### Train and test speed"
   ]
  },
  {
   "cell_type": "code",
   "execution_count": 9,
   "metadata": {},
   "outputs": [],
   "source": [
    "from sklearn.model_selection import train_test_split\n",
    "# create dummy dataset, where y is 1 only at the same index that X is maximum, and 0 everywhere else\n",
    "X = np.random.random((5000, 5))\n",
    "Y = np.argmax(X, axis=1)\n",
    "x_train, x_test, y_train, y_test = train_test_split(X, Y, test_size=0.2)"
   ]
  },
  {
   "cell_type": "code",
   "execution_count": 10,
   "metadata": {},
   "outputs": [
    {
     "name": "stdout",
     "output_type": "stream",
     "text": [
      "Train on 3200 samples, validate on 800 samples\n",
      "Epoch 1/5\n",
      "3200/3200 [==============================] - 3s 1ms/sample - loss: 1.3513 - acc: 0.6631 - val_loss: 0.9611 - val_acc: 0.8288\n",
      "Epoch 2/5\n",
      "3200/3200 [==============================] - 3s 867us/sample - loss: 0.6527 - acc: 0.8747 - val_loss: 0.4152 - val_acc: 0.9488\n",
      "Epoch 3/5\n",
      "3200/3200 [==============================] - 3s 907us/sample - loss: 0.3554 - acc: 0.9244 - val_loss: 0.2873 - val_acc: 0.9438\n",
      "Epoch 4/5\n",
      "3200/3200 [==============================] - 3s 908us/sample - loss: 0.2685 - acc: 0.9328 - val_loss: 0.2171 - val_acc: 0.9538\n",
      "Epoch 5/5\n",
      "3200/3200 [==============================] - 3s 955us/sample - loss: 0.2231 - acc: 0.9403 - val_loss: 0.1946 - val_acc: 0.9438\n",
      "Wall time: 15.2 s\n"
     ]
    },
    {
     "data": {
      "text/plain": [
       "<tensorflow.python.keras.callbacks.History at 0x11c9c72e588>"
      ]
     },
     "execution_count": 10,
     "metadata": {},
     "output_type": "execute_result"
    }
   ],
   "source": [
    "%%time\n",
    "model.fit(x_train, y_train, epochs=5, validation_split=0.2)"
   ]
  },
  {
   "cell_type": "code",
   "execution_count": 11,
   "metadata": {},
   "outputs": [
    {
     "data": {
      "text/plain": [
       "[0.2094351042509079, 0.942]"
      ]
     },
     "execution_count": 11,
     "metadata": {},
     "output_type": "execute_result"
    }
   ],
   "source": [
    "model.evaluate(x_test, y_test, batch_size=128, verbose=0)"
   ]
  },
  {
   "cell_type": "code",
   "execution_count": 12,
   "metadata": {},
   "outputs": [
    {
     "data": {
      "text/plain": [
       "(array([[0.71759054, 0.88347487, 0.21729862, 0.01851623, 0.87170631]]),\n",
       " array([[0.02285822, 0.7512861 , 0.00000684, 0.00000017, 0.22584875]],\n",
       "       dtype=float32))"
      ]
     },
     "execution_count": 12,
     "metadata": {},
     "output_type": "execute_result"
    }
   ],
   "source": [
    "x, model.predict(x)"
   ]
  },
  {
   "cell_type": "code",
   "execution_count": 13,
   "metadata": {},
   "outputs": [
    {
     "name": "stdout",
     "output_type": "stream",
     "text": [
      "28.3 ms ± 1.9 ms per loop (mean ± std. dev. of 7 runs, 20 loops each)\n"
     ]
    }
   ],
   "source": [
    "%%timeit -n 20\n",
    "model.predict(x)"
   ]
  },
  {
   "cell_type": "markdown",
   "metadata": {},
   "source": [
    "_Notice that the speed is still slow after fitting_"
   ]
  },
  {
   "cell_type": "markdown",
   "metadata": {},
   "source": [
    "### I tried saving the model in HDF5 format without optimizer and then the speed came back."
   ]
  },
  {
   "cell_type": "code",
   "execution_count": 14,
   "metadata": {},
   "outputs": [
    {
     "name": "stdout",
     "output_type": "stream",
     "text": [
      "WARNING:tensorflow:No training configuration found in save file: the model was *not* compiled. Compile it manually.\n"
     ]
    }
   ],
   "source": [
    "model.save('model.h5', include_optimizer=False, save_format='h5')\n",
    "model2 = kr.models.load_model('model.h5')"
   ]
  },
  {
   "cell_type": "code",
   "execution_count": 15,
   "metadata": {},
   "outputs": [
    {
     "name": "stdout",
     "output_type": "stream",
     "text": [
      "3.28 ms ± 555 µs per loop (mean ± std. dev. of 7 runs, 20 loops each)\n"
     ]
    }
   ],
   "source": [
    "%%timeit -n 20\n",
    "model2.predict(x)"
   ]
  },
  {
   "cell_type": "markdown",
   "metadata": {},
   "source": [
    "# Conclusion\n",
    "The model is indeed slower after `compile()`, but why does that happen? _I don't know._\n",
    "\n",
    "I'm quite certain that it is a bug or an unintended surprise. \n",
    "\n",
    "As a user, you are expecting the model to run as fast as possible when calling `predict()` because you have only one way to do prediction from the model.\n",
    "\n",
    "Think about the `numpy` variant, `Dense` layers are simply a bunch of matrix multiplications, vector additions, and non-linearity activations.\n",
    "Those operations are performed to the input `x` and the weights inside the model. It will not be slower or faster if there is no garbage being computed.\n",
    "`predict()` should consume constant time always. If it deviates from this it is likely a bug.\n",
    "\n",
    "Let's see the solution that we will get from this GitHub issue: https://github.com/tensorflow/tensorflow/issues/33340"
   ]
  }
 ],
 "metadata": {
  "kernelspec": {
   "display_name": "Python 3",
   "language": "python",
   "name": "python3"
  },
  "language_info": {
   "codemirror_mode": {
    "name": "ipython",
    "version": 3
   },
   "file_extension": ".py",
   "mimetype": "text/x-python",
   "name": "python",
   "nbconvert_exporter": "python",
   "pygments_lexer": "ipython3",
   "version": "3.7.3"
  }
 },
 "nbformat": 4,
 "nbformat_minor": 4
}
