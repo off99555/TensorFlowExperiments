{
 "cells": [
  {
   "cell_type": "code",
   "execution_count": 1,
   "metadata": {},
   "outputs": [],
   "source": [
    "import tensorflow as tf\n",
    "from tensorflow import keras as kr\n",
    "import numpy as np\n",
    "import os"
   ]
  },
  {
   "cell_type": "code",
   "execution_count": 2,
   "metadata": {},
   "outputs": [],
   "source": [
    "def build_model():\n",
    "    model = kr.Sequential([\n",
    "        kr.layers.Dense(1000, 'relu', input_shape=(500,)),\n",
    "        kr.layers.Dense(1000, 'relu'),\n",
    "        kr.layers.Dense(1, 'sigmoid')\n",
    "    ])\n",
    "    model.compile('adam', 'binary_crossentropy', ['acc'])\n",
    "    return model"
   ]
  },
  {
   "cell_type": "code",
   "execution_count": 3,
   "metadata": {},
   "outputs": [],
   "source": [
    "def print_model_size(filename):\n",
    "    print(f\"{filename} size: {os.path.getsize(filename) / 1024 / 1024:.3f} MiB\")"
   ]
  },
  {
   "cell_type": "code",
   "execution_count": 4,
   "metadata": {},
   "outputs": [
    {
     "name": "stdout",
     "output_type": "stream",
     "text": [
      "Model: \"sequential\"\n",
      "_________________________________________________________________\n",
      "Layer (type)                 Output Shape              Param #   \n",
      "=================================================================\n",
      "dense (Dense)                (None, 1000)              501000    \n",
      "_________________________________________________________________\n",
      "dense_1 (Dense)              (None, 1000)              1001000   \n",
      "_________________________________________________________________\n",
      "dense_2 (Dense)              (None, 1)                 1001      \n",
      "=================================================================\n",
      "Total params: 1,503,001\n",
      "Trainable params: 1,503,001\n",
      "Non-trainable params: 0\n",
      "_________________________________________________________________\n",
      "model_a.h5 size: 5.748 MiB\n"
     ]
    }
   ],
   "source": [
    "model_a = build_model()\n",
    "model_a.summary()\n",
    "fn = 'model_a.h5'\n",
    "model_a.save(fn)\n",
    "print_model_size(fn)"
   ]
  },
  {
   "cell_type": "code",
   "execution_count": 5,
   "metadata": {},
   "outputs": [],
   "source": [
    "def create_y(x):\n",
    "    return (x[:, [100, 200, 300, 400]].sum(1) > 2).astype('float32')"
   ]
  },
  {
   "cell_type": "code",
   "execution_count": 6,
   "metadata": {},
   "outputs": [],
   "source": [
    "x_train = np.random.random((10000, 500))\n",
    "x_test = np.random.random((2000, 500))\n",
    "y_train = create_y(x_train)\n",
    "y_test = create_y(x_test)"
   ]
  },
  {
   "cell_type": "code",
   "execution_count": 7,
   "metadata": {},
   "outputs": [
    {
     "name": "stdout",
     "output_type": "stream",
     "text": [
      "Train on 9000 samples, validate on 1000 samples\n",
      "Epoch 1/100\n",
      "9000/9000 [==============================] - 3s 384us/sample - loss: 0.5619 - acc: 0.6843 - val_loss: 0.2568 - val_acc: 0.9050\n",
      "Epoch 2/100\n",
      "9000/9000 [==============================] - 3s 355us/sample - loss: 0.2649 - acc: 0.8817 - val_loss: 0.2047 - val_acc: 0.9100\n",
      "Epoch 3/100\n",
      "9000/9000 [==============================] - 3s 356us/sample - loss: 0.2358 - acc: 0.8989 - val_loss: 0.1695 - val_acc: 0.9310\n",
      "Epoch 4/100\n",
      "9000/9000 [==============================] - 3s 361us/sample - loss: 0.1631 - acc: 0.9301 - val_loss: 0.1520 - val_acc: 0.9330\n",
      "Epoch 5/100\n",
      "9000/9000 [==============================] - 3s 357us/sample - loss: 0.1726 - acc: 0.9240 - val_loss: 0.2533 - val_acc: 0.8800\n",
      "Epoch 6/100\n",
      "9000/9000 [==============================] - 4s 395us/sample - loss: 0.1598 - acc: 0.9309 - val_loss: 0.1626 - val_acc: 0.9240\n",
      "Epoch 7/100\n",
      "9000/9000 [==============================] - 4s 403us/sample - loss: 0.1234 - acc: 0.9479 - val_loss: 0.1180 - val_acc: 0.9530\n",
      "Epoch 8/100\n",
      "9000/9000 [==============================] - 4s 403us/sample - loss: 0.1373 - acc: 0.9422 - val_loss: 0.2158 - val_acc: 0.9040\n",
      "Epoch 9/100\n",
      "9000/9000 [==============================] - 3s 381us/sample - loss: 0.1479 - acc: 0.9338 - val_loss: 0.1397 - val_acc: 0.9330\n",
      "Epoch 10/100\n",
      "9000/9000 [==============================] - 4s 427us/sample - loss: 0.1183 - acc: 0.9486 - val_loss: 0.1106 - val_acc: 0.9580\n",
      "Epoch 11/100\n",
      "9000/9000 [==============================] - 4s 410us/sample - loss: 0.1234 - acc: 0.9476 - val_loss: 0.3165 - val_acc: 0.8660\n",
      "Epoch 12/100\n",
      "9000/9000 [==============================] - 3s 368us/sample - loss: 0.1062 - acc: 0.9533 - val_loss: 0.1571 - val_acc: 0.9290\n",
      "Epoch 13/100\n",
      "9000/9000 [==============================] - 3s 367us/sample - loss: 0.1625 - acc: 0.9324 - val_loss: 0.4426 - val_acc: 0.8430\n",
      "Epoch 14/100\n",
      "9000/9000 [==============================] - 3s 352us/sample - loss: 0.1187 - acc: 0.9483 - val_loss: 0.1167 - val_acc: 0.9400\n",
      "Epoch 15/100\n",
      "9000/9000 [==============================] - 3s 348us/sample - loss: 0.1039 - acc: 0.9562 - val_loss: 0.2469 - val_acc: 0.9080\n"
     ]
    },
    {
     "data": {
      "text/plain": [
       "<tensorflow.python.keras.callbacks.History at 0x2311d3d49b0>"
      ]
     },
     "execution_count": 7,
     "metadata": {},
     "output_type": "execute_result"
    }
   ],
   "source": [
    "model_a.fit(x_train, y_train, validation_split=0.1, epochs=100, callbacks=[kr.callbacks.EarlyStopping(patience=5, restore_best_weights=True)])"
   ]
  },
  {
   "cell_type": "code",
   "execution_count": 8,
   "metadata": {},
   "outputs": [
    {
     "name": "stdout",
     "output_type": "stream",
     "text": [
      "model_a_trained.h5 size: 17.233 MiB\n"
     ]
    }
   ],
   "source": [
    "fn = 'model_a_trained.h5'\n",
    "model_a.save(fn)\n",
    "print_model_size(fn)"
   ]
  },
  {
   "cell_type": "code",
   "execution_count": 9,
   "metadata": {},
   "outputs": [
    {
     "name": "stdout",
     "output_type": "stream",
     "text": [
      "model_b.h5 size: 5.748 MiB\n"
     ]
    }
   ],
   "source": [
    "# copy weights of model A to model B\n",
    "model_b = build_model()\n",
    "model_b.set_weights(model_a.get_weights())\n",
    "fn = 'model_b.h5'\n",
    "model_b.save(fn)\n",
    "print_model_size(fn)"
   ]
  },
  {
   "cell_type": "markdown",
   "metadata": {},
   "source": [
    "# Load model and evaluate"
   ]
  },
  {
   "cell_type": "code",
   "execution_count": 10,
   "metadata": {},
   "outputs": [],
   "source": [
    "load_model = kr.models.load_model\n",
    "model_a = load_model('model_a_trained.h5')\n",
    "model_b = load_model('model_b.h5')"
   ]
  },
  {
   "cell_type": "code",
   "execution_count": 11,
   "metadata": {},
   "outputs": [
    {
     "name": "stdout",
     "output_type": "stream",
     "text": [
      "10000/10000 [==============================] - 1s 106us/sample - loss: 0.0732 - acc: 0.9774\n",
      "[0.07317991709411144, 0.9774]\n",
      "2000/2000 [==============================] - 0s 98us/sample - loss: 0.1364 - acc: 0.9390\n",
      "[0.1364044747054577, 0.939]\n"
     ]
    }
   ],
   "source": [
    "print(model_a.evaluate(x_train, y_train))\n",
    "print(model_a.evaluate(x_test, y_test))"
   ]
  },
  {
   "cell_type": "code",
   "execution_count": 12,
   "metadata": {},
   "outputs": [
    {
     "name": "stdout",
     "output_type": "stream",
     "text": [
      "10000/10000 [==============================] - 1s 104us/sample - loss: 0.0732 - acc: 0.9774\n",
      "[0.07317991709411144, 0.9774]\n",
      "2000/2000 [==============================] - 0s 98us/sample - loss: 0.1364 - acc: 0.9390\n",
      "[0.1364044747054577, 0.939]\n"
     ]
    }
   ],
   "source": [
    "print(model_b.evaluate(x_train, y_train))\n",
    "print(model_b.evaluate(x_test, y_test))"
   ]
  },
  {
   "cell_type": "markdown",
   "metadata": {},
   "source": [
    "# Conclusion\n",
    "You will see that both `model_a` and `model_b` give the same accuracy yet their disk space consumption is tremendously different.\n",
    "\n",
    "It means that the `.fit()` command stores information about the training process that is not used for prediction."
   ]
  }
 ],
 "metadata": {
  "kernelspec": {
   "display_name": "Python 3",
   "language": "python",
   "name": "python3"
  },
  "language_info": {
   "codemirror_mode": {
    "name": "ipython",
    "version": 3
   },
   "file_extension": ".py",
   "mimetype": "text/x-python",
   "name": "python",
   "nbconvert_exporter": "python",
   "pygments_lexer": "ipython3",
   "version": "3.7.3"
  }
 },
 "nbformat": 4,
 "nbformat_minor": 2
}
